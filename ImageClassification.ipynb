{
 "cells": [
  {
   "cell_type": "markdown",
   "id": "473d635a-d3e5-4533-9311-a1ba87d907c5",
   "metadata": {},
   "source": [
    "### Installing Packages"
   ]
  },
  {
   "cell_type": "code",
   "execution_count": 42,
   "id": "b078e9ab-8014-4420-bd77-8126e7d55df8",
   "metadata": {},
   "outputs": [],
   "source": [
    "#!pip install tensorflow tensorflow-gpu opencv-python matplotlib"
   ]
  },
  {
   "cell_type": "markdown",
   "id": "9a0c4ade-c869-4771-b3cf-bf26fd3fd040",
   "metadata": {},
   "source": [
    "#### import packages"
   ]
  },
  {
   "cell_type": "code",
   "execution_count": 43,
   "id": "3007ca90-6eed-4424-89b9-93df56d923cb",
   "metadata": {},
   "outputs": [],
   "source": [
    "import tensorflow as tf\n",
    "import os\n",
    "import cv2\n",
    "import imghdr\n",
    "from matplotlib import pyplot as plt"
   ]
  },
  {
   "cell_type": "code",
   "execution_count": 44,
   "id": "52174b5b-a721-41e1-9141-24544c959572",
   "metadata": {},
   "outputs": [],
   "source": [
    "#To Avoid OOM errors by setting GPU Memory Consumption Growth (if you have NVIDIA graphic card)\n",
    "\n",
    "# gpus  = tf.config.experimental.list_physical_devices('GPU')\n",
    "# for gpu in gpus:\n",
    "#     tf.config.experimental.set_memory_growth(gpu, True)"
   ]
  },
  {
   "cell_type": "markdown",
   "id": "9d2b78e9-066b-4c9d-8251-577f0d0a2095",
   "metadata": {},
   "source": [
    "### Remove dodgy images from dataset"
   ]
  },
  {
   "cell_type": "code",
   "execution_count": 45,
   "id": "a3df98ae-10c6-44ff-b0fc-7af3155c05f5",
   "metadata": {},
   "outputs": [],
   "source": [
    "data_dir = 'data'"
   ]
  },
  {
   "cell_type": "code",
   "execution_count": 46,
   "id": "517c35ce-50b4-4956-91e2-aa8d6261757b",
   "metadata": {},
   "outputs": [],
   "source": [
    "#working with OS\n",
    "\n",
    "# os.listdir(data_dir)\n",
    "# os.listdir(os.path.join(data_dir, 'happy'))"
   ]
  },
  {
   "cell_type": "code",
   "execution_count": 47,
   "id": "7902e767-b9e6-44af-9f72-466dcb5b6860",
   "metadata": {},
   "outputs": [],
   "source": [
    "#working with OpenCv\n",
    "\n",
    "# img = cv2.imread(os.path.join('data', 'happy', '154006829.jpg'))\n",
    "# img.shape\n",
    "# plt.imshow(cv2.cvtColor(img, cv2.COLOR_BGR2RGB))\n",
    "# plt.show()"
   ]
  },
  {
   "cell_type": "code",
   "execution_count": 48,
   "id": "acae10b5-5434-4827-aa66-de369e2e3809",
   "metadata": {},
   "outputs": [],
   "source": [
    "image_exts = ['jpeg', 'jpg', 'bmp', 'png']"
   ]
  },
  {
   "cell_type": "code",
   "execution_count": 50,
   "id": "a53c6e07-8628-431e-aaf2-93e67ba533d5",
   "metadata": {},
   "outputs": [
    {
     "name": "stdout",
     "output_type": "stream",
     "text": [
      "Image Not In EXT List data\\happy\\-woman-looking-at-camera-with-crossed-arms-happy-girl-standing-in-1865153395.jpg\n",
      "Image Not In EXT List data\\happy\\10563227-happy-person.jpg\n",
      "Image Not In EXT List data\\happy\\7-Habits-of-Happy-People.png\n",
      "Image Not In EXT List data\\happy\\depositphotos_317939792-stock-photo-young-woman-isolated-yellow-background.jpg\n",
      "Image Not In EXT List data\\happy\\depositphotos_391577690-stock-photo-cheerful-woman-outstretched-hands-sitting.jpg\n",
      "Image Not In EXT List data\\happy\\depositphotos_8807359-stock-photo-mixed-race-man-smiling.jpg\n",
      "Image Not In EXT List data\\happy\\guilherme-stecanella-375176-unsplash.jpg\n",
      "Image Not In EXT List data\\happy\\Happy20People.jpg\n",
      "Image Not In EXT List data\\happy\\n-with-pleasant-smile-and-crossed-arms-isolated-on-grey-wall-with-2151833739.jpg\n"
     ]
    }
   ],
   "source": [
    "for image_class in os.listdir(data_dir):\n",
    "    for image in os.listdir(os.path.join(data_dir, image_class)):\n",
    "        image_path = os.path.join(data_dir, image_class, image)\n",
    "        try:\n",
    "            img = cv2.imread(image_path)\n",
    "            tip = imghdr.what(image_path)\n",
    "            if tip not in image_exts:\n",
    "                print(f'Image Not In EXT List {image_path}')\n",
    "                os.remove(image_path)\n",
    "        except Exception as e:\n",
    "            print(f'Issue With Image {image_path}')"
   ]
  },
  {
   "cell_type": "markdown",
   "id": "87d37f95-2d76-407a-bd30-00477a91599c",
   "metadata": {},
   "source": []
  }
 ],
 "metadata": {
  "kernelspec": {
   "display_name": "Python 3 (ipykernel)",
   "language": "python",
   "name": "python3"
  },
  "language_info": {
   "codemirror_mode": {
    "name": "ipython",
    "version": 3
   },
   "file_extension": ".py",
   "mimetype": "text/x-python",
   "name": "python",
   "nbconvert_exporter": "python",
   "pygments_lexer": "ipython3",
   "version": "3.9.18"
  }
 },
 "nbformat": 4,
 "nbformat_minor": 5
}
